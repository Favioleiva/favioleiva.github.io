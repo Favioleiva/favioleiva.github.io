{
  "nbformat": 4,
  "nbformat_minor": 0,
  "metadata": {
    "colab": {
      "provenance": [],
      "authorship_tag": "ABX9TyNiLz3qNQ+xLNWnqo6kf3Xh",
      "include_colab_link": true
    },
    "kernelspec": {
      "name": "python3",
      "display_name": "Python 3"
    },
    "language_info": {
      "name": "python"
    }
  },
  "cells": [
    {
      "cell_type": "markdown",
      "metadata": {
        "id": "view-in-github",
        "colab_type": "text"
      },
      "source": [
        "<a href=\"https://colab.research.google.com/github/Favioleiva/favioleiva.github.io/blob/main/tutorials/python/QrCode.ipynb\" target=\"_parent\"><img src=\"https://colab.research.google.com/assets/colab-badge.svg\" alt=\"Open In Colab\"/></a>"
      ]
    },
    {
      "cell_type": "code",
      "source": [
        "!pip install qrcode[pil]  # Installs the 'qrcode' library along with PIL (Pillow) for generating and managing QR codes.\n",
        "!pip install svgwrite     # Installs the 'svgwrite' library to create and manipulate SVG (Scalable Vector Graphics) files.\n"
      ],
      "metadata": {
        "colab": {
          "base_uri": "https://localhost:8080/"
        },
        "id": "Wj_dBucdj7Ur",
        "outputId": "1f396c93-4e86-4c74-a001-4a0c1fc79798"
      },
      "execution_count": 17,
      "outputs": [
        {
          "output_type": "stream",
          "name": "stdout",
          "text": [
            "Requirement already satisfied: qrcode[pil] in /usr/local/lib/python3.10/dist-packages (8.0)\n",
            "Requirement already satisfied: pillow>=9.1.0 in /usr/local/lib/python3.10/dist-packages (from qrcode[pil]) (11.0.0)\n",
            "Requirement already satisfied: svgwrite in /usr/local/lib/python3.10/dist-packages (1.4.3)\n"
          ]
        }
      ]
    },
    {
      "cell_type": "code",
      "source": [
        "import qrcode      # Imports the 'qrcode' library, which is used to generate QR codes.\n",
        "import svgwrite    # Imports the 'svgwrite' library, which is used to create and manipulate SVG files."
      ],
      "metadata": {
        "id": "C-d7xp-_6P2G"
      },
      "execution_count": 18,
      "outputs": []
    },
    {
      "cell_type": "code",
      "source": [
        "# Create the QR code\n",
        "data = \"https://favioleiva.github.io/\"\n",
        "qr = qrcode.QRCode(\n",
        "    version=1,\n",
        "    error_correction=qrcode.constants.ERROR_CORRECT_H\n",
        ")\n",
        "qr.add_data(data)\n",
        "qr.make(fit=True)\n",
        "\n",
        "# Get the QR code module matrix\n",
        "matrix = qr.get_matrix()\n",
        "\n",
        "# Create an SVG file to export the QR code\n",
        "dwg = svgwrite.Drawing('rounded_qr.svg', profile='tiny', size=(len(matrix)*10, len(matrix)*10))  # Size based on the matrix\n",
        "\n",
        "# Draw rounded modules in the SVG\n",
        "box_size = 10  # Size of each module\n",
        "for y, row in enumerate(matrix):\n",
        "    for x, val in enumerate(row):\n",
        "        if val:  # If the module is black\n",
        "            dwg.add(dwg.rect(insert=(x * box_size, y * box_size), size=(box_size, box_size), rx=5, ry=5, fill='black'))\n",
        "\n",
        "# Save the SVG file\n",
        "dwg.save()\n",
        "\n",
        "# No need to attempt opening it with PIL; you can view it directly in a browser or SVG editor\n",
        "print(\"SVG saved as 'rounded_qr.svg'.\")"
      ],
      "metadata": {
        "colab": {
          "base_uri": "https://localhost:8080/"
        },
        "id": "Nj_Q3CusmDfZ",
        "outputId": "f75b77a2-e24f-4cc0-e524-571651654fa1"
      },
      "execution_count": 19,
      "outputs": [
        {
          "output_type": "stream",
          "name": "stdout",
          "text": [
            "SVG saved as 'rounded_qr.svg'.\n"
          ]
        }
      ]
    }
  ]
}